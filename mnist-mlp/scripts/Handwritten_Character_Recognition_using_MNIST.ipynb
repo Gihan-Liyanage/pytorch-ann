{
  "cells": [
    {
      "cell_type": "code",
      "execution_count": null,
      "metadata": {
        "id": "brOM6LZHxThD"
      },
      "outputs": [],
      "source": [
        "# installing wandb\n",
        "!pip install wandb -qU"
      ]
    },
    {
      "cell_type": "code",
      "execution_count": null,
      "metadata": {
        "colab": {
          "base_uri": "https://localhost:8080/",
          "height": 105
        },
        "id": "Jojbz44f3fOD",
        "outputId": "1758c5ac-4387-49e6-80a0-eede0dc527a3"
      },
      "outputs": [
        {
          "data": {
            "text/html": [
              "Tracking run with wandb version 0.15.12"
            ],
            "text/plain": [
              "<IPython.core.display.HTML object>"
            ]
          },
          "metadata": {},
          "output_type": "display_data"
        },
        {
          "data": {
            "text/html": [
              "Run data is saved locally in <code>/content/wandb/run-20231107_140950-6jw36ea1</code>"
            ],
            "text/plain": [
              "<IPython.core.display.HTML object>"
            ]
          },
          "metadata": {},
          "output_type": "display_data"
        },
        {
          "data": {
            "text/html": [
              "Syncing run <strong><a href='https://wandb.ai/gihan-ascentic/MLP%20on%20MNIST/runs/6jw36ea1' target=\"_blank\">neat-pyramid-4</a></strong> to <a href='https://wandb.ai/gihan-ascentic/MLP%20on%20MNIST' target=\"_blank\">Weights & Biases</a> (<a href='https://wandb.me/run' target=\"_blank\">docs</a>)<br/>"
            ],
            "text/plain": [
              "<IPython.core.display.HTML object>"
            ]
          },
          "metadata": {},
          "output_type": "display_data"
        },
        {
          "data": {
            "text/html": [
              " View project at <a href='https://wandb.ai/gihan-ascentic/MLP%20on%20MNIST' target=\"_blank\">https://wandb.ai/gihan-ascentic/MLP%20on%20MNIST</a>"
            ],
            "text/plain": [
              "<IPython.core.display.HTML object>"
            ]
          },
          "metadata": {},
          "output_type": "display_data"
        },
        {
          "data": {
            "text/html": [
              " View run at <a href='https://wandb.ai/gihan-ascentic/MLP%20on%20MNIST/runs/6jw36ea1' target=\"_blank\">https://wandb.ai/gihan-ascentic/MLP%20on%20MNIST/runs/6jw36ea1</a>"
            ],
            "text/plain": [
              "<IPython.core.display.HTML object>"
            ]
          },
          "metadata": {},
          "output_type": "display_data"
        }
      ],
      "source": [
        "# initiating wandb\n",
        "import wandb\n",
        "\n",
        "wandb.login()\n",
        "\n",
        "wandb.init(\n",
        "    project='MLP on MNIST',\n",
        "    config= {\n",
        "        \"epochs\": 25,\n",
        "        \"batch_size\": 100,\n",
        "        \"lr\": 0.001\n",
        "    }\n",
        ")\n",
        "\n",
        "config = wandb.config"
      ]
    },
    {
      "cell_type": "code",
      "execution_count": null,
      "metadata": {
        "id": "Z_1xV5z14E_l"
      },
      "outputs": [],
      "source": [
        "import torch\n",
        "import torch.nn as nn\n",
        "import torchvision.datasets as datasets\n",
        "import torchvision.transforms as transforms\n",
        "from torch.utils.data import DataLoader"
      ]
    },
    {
      "cell_type": "code",
      "execution_count": null,
      "metadata": {
        "id": "VWEFw4da5Q2o"
      },
      "outputs": [],
      "source": [
        "# network architecture variables\n",
        "input_size = 784 # number of input neurons (28 x 28)\n",
        "hidden_size = 400 # ~ (784 + 10)/2\n",
        "output_size = 10"
      ]
    },
    {
      "cell_type": "code",
      "execution_count": null,
      "metadata": {
        "id": "o6PuAK_W80AC"
      },
      "outputs": [],
      "source": [
        "# Import MNIST from torchvision\n",
        "\n",
        "train_dataset = datasets.MNIST(\n",
        "    root='./data',\n",
        "    train=True,\n",
        "    transform=transforms.ToTensor(),\n",
        "    download=True\n",
        ")\n",
        "\n",
        "test_dataset = datasets.MNIST(\n",
        "    root='./data',\n",
        "    train=False,\n",
        "    transform=transforms.ToTensor(),\n",
        "    download=True\n",
        ")"
      ]
    },
    {
      "cell_type": "code",
      "execution_count": null,
      "metadata": {
        "id": "JKholSBZ9o5_"
      },
      "outputs": [],
      "source": [
        "# create training and testing data batches\n",
        "\n",
        "train_loader = DataLoader(\n",
        "    dataset=train_dataset,\n",
        "    batch_size=config.batch_size,\n",
        "    shuffle=True\n",
        ")\n",
        "\n",
        "test_loader = DataLoader(\n",
        "    dataset=test_dataset,\n",
        "    batch_size=config.batch_size,\n",
        "    shuffle=True\n",
        ")"
      ]
    },
    {
      "cell_type": "code",
      "execution_count": null,
      "metadata": {
        "id": "NF2rLmcP-MUV"
      },
      "outputs": [],
      "source": [
        "# Define our network architecture\n",
        "class MNISTNet(nn.Module):\n",
        "  def __init__(self, input_size, hidden_size, output_size):\n",
        "    super(MNISTNet, self).__init__()\n",
        "    self.fc1 = nn.Linear(input_size, hidden_size)\n",
        "    self.fc2 = nn.Linear(hidden_size, hidden_size)\n",
        "    self.fc3 = nn.Linear(hidden_size, output_size)\n",
        "    self.relu = nn.ReLU()\n",
        "    # new addition --> define initial weights\n",
        "    self.init_weights()\n",
        "\n",
        "  # weight initialisation function\n",
        "  def init_weights(self):\n",
        "    nn.init.kaiming_normal_(self.fc1.weight)\n",
        "    nn.init.kaiming_normal_(self.fc2.weight)\n",
        "    nn.init.kaiming_normal_(self.fc3.weight)\n",
        "\n",
        "\n",
        "  def forward(self, x):\n",
        "    out = self.fc1(x)\n",
        "    out = self.relu(out)\n",
        "    out = self.fc2(out)\n",
        "    out = self.relu(out)\n",
        "    out = self.fc3(out)\n",
        "    return out"
      ]
    },
    {
      "cell_type": "code",
      "execution_count": null,
      "metadata": {
        "id": "5saamj9cCK8S"
      },
      "outputs": [],
      "source": [
        "# Preparing for training\n",
        "network = MNISTNet(input_size, hidden_size, output_size)\n",
        "\n",
        "# Deploying our network in GPU\n",
        "CUDA = torch.cuda.is_available()\n",
        "\n",
        "if CUDA:\n",
        "  network = network.cuda()\n",
        "\n",
        "# loss function and optimizer\n",
        "loss_fn = nn.CrossEntropyLoss()\n",
        "optimizer = torch.optim.Adam(network.parameters(), lr=config.lr)"
      ]
    },
    {
      "cell_type": "code",
      "execution_count": null,
      "metadata": {
        "colab": {
          "base_uri": "https://localhost:8080/",
          "height": 1000,
          "referenced_widgets": [
            "1955e8b0452a46ffbfacf7717d9b197c",
            "9de2e1a960f34285bf9e16010a19c529",
            "cf5fc4f413554008be672cfdbc0bee1f",
            "49dbd303d8a6460c9242d6dc809175b5",
            "c5c8b7bcfb31442b91e35b01369da3ed",
            "b643fe745ad8431ba3e511748cc46f65",
            "34939f3ba0e74604b4eb08b6e744cd05",
            "86cd82c49c97463cb330750774141810"
          ]
        },
        "id": "SkSiupA-DXu5",
        "outputId": "c31823b6-39fc-4fcd-c13f-969318b658a0"
      },
      "outputs": [
        {
          "name": "stdout",
          "output_type": "stream",
          "text": [
            "Epoch: 1/25, Accury: 99.53166961669922, Loss: 0.01460577951807257\n",
            "Epoch: 2/25, Accury: 99.46833038330078, Loss: 0.014856943211513377\n",
            "Epoch: 3/25, Accury: 99.6050033569336, Loss: 0.012367723842695947\n",
            "Epoch: 4/25, Accury: 99.62833404541016, Loss: 0.011147954458325936\n",
            "Epoch: 5/25, Accury: 99.625, Loss: 0.011820815770823476\n",
            "\n",
            "\n",
            "Epoch: 5/25, Test Accury: 98.36000061035156, Test Loss: 0.07589730351959588\n",
            "\n",
            "\n",
            "Epoch: 6/25, Accury: 99.68000030517578, Loss: 0.009318926352282991\n",
            "Epoch: 7/25, Accury: 99.67333221435547, Loss: 0.01067682987684293\n",
            "Epoch: 8/25, Accury: 99.788330078125, Loss: 0.006395650459397378\n",
            "Epoch: 9/25, Accury: 99.60166931152344, Loss: 0.012167764481869956\n",
            "Epoch: 10/25, Accury: 99.72166442871094, Loss: 0.008771116198013261\n",
            "\n",
            "\n",
            "Epoch: 10/25, Test Accury: 98.0999984741211, Test Loss: 0.09817238001152873\n",
            "\n",
            "\n",
            "Epoch: 11/25, Accury: 99.74333190917969, Loss: 0.008064390485060358\n",
            "Epoch: 12/25, Accury: 99.74833679199219, Loss: 0.007662966642583342\n",
            "Epoch: 13/25, Accury: 99.79166412353516, Loss: 0.0064663221618457105\n",
            "Epoch: 14/25, Accury: 99.80333709716797, Loss: 0.00598333345177456\n",
            "Epoch: 15/25, Accury: 99.74500274658203, Loss: 0.008620500441669492\n",
            "\n",
            "\n",
            "Epoch: 15/25, Test Accury: 98.06999969482422, Test Loss: 0.10732945419917087\n",
            "\n",
            "\n",
            "Epoch: 16/25, Accury: 99.74833679199219, Loss: 0.008996182669696585\n",
            "Epoch: 17/25, Accury: 99.82333374023438, Loss: 0.005284969133778077\n",
            "Epoch: 18/25, Accury: 99.75166320800781, Loss: 0.007399623715139493\n",
            "Epoch: 19/25, Accury: 99.90166473388672, Loss: 0.003112296295860754\n",
            "Epoch: 20/25, Accury: 99.73666381835938, Loss: 0.008103445743745587\n",
            "\n",
            "\n",
            "Epoch: 20/25, Test Accury: 98.16999816894531, Test Loss: 0.11603309057889419\n",
            "\n",
            "\n",
            "Epoch: 21/25, Accury: 99.88999938964844, Loss: 0.003710812361821733\n",
            "Epoch: 22/25, Accury: 99.86000061035156, Loss: 0.00526261986851613\n",
            "Epoch: 23/25, Accury: 99.74166870117188, Loss: 0.009233168645168916\n",
            "Epoch: 24/25, Accury: 99.86833190917969, Loss: 0.004789357487410512\n",
            "Epoch: 25/25, Accury: 99.83000183105469, Loss: 0.0062515647709362795\n",
            "\n",
            "\n",
            "Epoch: 25/25, Test Accury: 98.01000213623047, Test Loss: 0.12786659450302978\n",
            "\n",
            "\n"
          ]
        },
        {
          "data": {
            "text/html": [
              "Waiting for W&B process to finish... <strong style=\"color:green\">(success).</strong>"
            ],
            "text/plain": [
              "<IPython.core.display.HTML object>"
            ]
          },
          "metadata": {},
          "output_type": "display_data"
        },
        {
          "data": {
            "application/vnd.jupyter.widget-view+json": {
              "model_id": "1955e8b0452a46ffbfacf7717d9b197c",
              "version_major": 2,
              "version_minor": 0
            },
            "text/plain": [
              "VBox(children=(Label(value='0.001 MB of 0.001 MB uploaded (0.000 MB deduped)\\r'), FloatProgress(value=1.0, max…"
            ]
          },
          "metadata": {},
          "output_type": "display_data"
        },
        {
          "data": {
            "text/html": [
              "<style>\n",
              "    table.wandb td:nth-child(1) { padding: 0 10px; text-align: left ; width: auto;} td:nth-child(2) {text-align: left ; width: 100%}\n",
              "    .wandb-row { display: flex; flex-direction: row; flex-wrap: wrap; justify-content: flex-start; width: 100% }\n",
              "    .wandb-col { display: flex; flex-direction: column; flex-basis: 100%; flex: 1; padding: 10px; }\n",
              "    </style>\n",
              "<div class=\"wandb-row\"><div class=\"wandb-col\"><h3>Run history:</h3><br/><table class=\"wandb\"><tr><td>Accuracy</td><td>▁▅▆▇▇▇▇██████████████████████████</td></tr><tr><td>Epoch</td><td>▁▁▂▂▂▂▃▃▁▁▂▂▂▂▃▃▃▄▄▄▅▅▅▅▆▆▆▇▇▇▇██</td></tr><tr><td>Loss</td><td>█▄▃▂▂▂▂▁▁▁▁▁▁▁▁▁▁▁▁▁▁▁▁▁▁▁▁▁▁▁▁▁▁</td></tr><tr><td>Test Accuracy</td><td>▁▆█▇▇▇▆</td></tr><tr><td>Test Loss</td><td>▅▁▁▄▅▆█</td></tr></table><br/></div><div class=\"wandb-col\"><h3>Run summary:</h3><br/><table class=\"wandb\"><tr><td>Accuracy</td><td>99.83</td></tr><tr><td>Epoch</td><td>25</td></tr><tr><td>Loss</td><td>0.00625</td></tr><tr><td>Test Accuracy</td><td>98.01</td></tr><tr><td>Test Loss</td><td>0.12787</td></tr></table><br/></div></div>"
            ],
            "text/plain": [
              "<IPython.core.display.HTML object>"
            ]
          },
          "metadata": {},
          "output_type": "display_data"
        },
        {
          "data": {
            "text/html": [
              " View run <strong style=\"color:#cdcd00\">neat-pyramid-4</strong> at: <a href='https://wandb.ai/gihan-ascentic/MLP%20on%20MNIST/runs/6jw36ea1' target=\"_blank\">https://wandb.ai/gihan-ascentic/MLP%20on%20MNIST/runs/6jw36ea1</a><br/>Synced 5 W&B file(s), 0 media file(s), 0 artifact file(s) and 0 other file(s)"
            ],
            "text/plain": [
              "<IPython.core.display.HTML object>"
            ]
          },
          "metadata": {},
          "output_type": "display_data"
        },
        {
          "data": {
            "text/html": [
              "Find logs at: <code>./wandb/run-20231107_140950-6jw36ea1/logs</code>"
            ],
            "text/plain": [
              "<IPython.core.display.HTML object>"
            ]
          },
          "metadata": {},
          "output_type": "display_data"
        },
        {
          "name": "stdout",
          "output_type": "stream",
          "text": [
            "Training is Done\n"
          ]
        }
      ],
      "source": [
        "# training loop\n",
        "for epoch in range(config.epochs):\n",
        "  # correct training predictions\n",
        "  correct_train = 0\n",
        "  # loss for epoch\n",
        "  updating_loss  = 0\n",
        "\n",
        "  # Training\n",
        "  for index, (images, labels) in enumerate(train_loader):\n",
        "    # the default shape of images is [100, 1, 28, 28]. 100 -> num of images, 1 --> one color channel\n",
        "    # 28 , 28 --> image resolution.\n",
        "    # But, we need to convert the shape into [100, 784] in order to feed into our network\n",
        "    images = images.view(-1, 28*28)\n",
        "\n",
        "    # deploying inputs into GPU\n",
        "    if CUDA:\n",
        "      images = images.cuda()\n",
        "      labels = labels.cuda() # Fixed adding labels to cuda\n",
        "    # feedforward\n",
        "    outputs = network(images)\n",
        "\n",
        "    # calculating the loss\n",
        "    loss = loss_fn(outputs, labels)\n",
        "    updating_loss += loss.item()\n",
        "\n",
        "    # Backprop\n",
        "    optimizer.zero_grad()\n",
        "    loss.backward()\n",
        "    optimizer.step()\n",
        "\n",
        "    # Calculating the accuracy\n",
        "    _, predicted_index = torch.max(outputs.data, 1)\n",
        "\n",
        "    correct_train += (predicted_index == labels).sum()\n",
        "\n",
        "  params = {\n",
        "      \"Epoch\": epoch+1,\n",
        "      \"Accuracy\": (correct_train / len(train_loader)),\n",
        "      \"Loss\": updating_loss/ len(train_loader)\n",
        "  }\n",
        "  wandb.log(params)\n",
        "\n",
        "  print(f\"Epoch: {epoch+1}/{config.epochs}, Accury: {(correct_train / len(train_loader))}, Loss: {updating_loss/ len(train_loader)}\")\n",
        "\n",
        "  # Validation\n",
        "\n",
        "  # putting the model into evaluation mode\n",
        "  network.eval()\n",
        "  # with torch.no_grad()\n",
        "\n",
        "  test_correct_predictions = 0\n",
        "  test_loss = 0\n",
        "\n",
        "  for index, (images, labels) in enumerate(test_loader):\n",
        "    if CUDA:\n",
        "      images = images.cuda()\n",
        "      labels = labels.cuda()\n",
        "\n",
        "    images = images.view(-1, 28*28)\n",
        "\n",
        "    outputs = network(images)\n",
        "\n",
        "    loss = loss_fn(outputs, labels)\n",
        "\n",
        "    test_loss += loss.item()\n",
        "\n",
        "\n",
        "    _, predicted_test_index = torch.max(outputs.data, 1)\n",
        "\n",
        "    test_correct_predictions += (predicted_test_index == labels).sum()\n",
        "\n",
        "  if (epoch+1)%5 == 0:\n",
        "\n",
        "    print('\\n')\n",
        "\n",
        "    params = {\n",
        "        \"Test Accuracy\": (test_correct_predictions / len(test_loader)),\n",
        "        \"Test Loss\": test_loss / len(test_loader)\n",
        "    }\n",
        "    wandb.log(params)\n",
        "\n",
        "    print(f\"Epoch: {epoch+1}/{config.epochs}, Test Accury: {(test_correct_predictions / len(test_loader))}, Test Loss: {test_loss / len(test_loader)}\")\n",
        "\n",
        "    print('\\n')\n",
        "\n",
        "\n",
        "\n",
        "wandb.finish()\n",
        "print('Training is Done')"
      ]
    },
    {
      "cell_type": "code",
      "execution_count": null,
      "metadata": {
        "id": "U54q32VzETBS"
      },
      "outputs": [],
      "source": [
        "# Saving the model\n",
        "torch.save({\n",
        "    'model_state_dict': network.state_dict()\n",
        "}, 'mlp_mnist.pth')"
      ]
    },
    {
      "cell_type": "code",
      "execution_count": null,
      "metadata": {
        "id": "5hVj5-idLLrQ"
      },
      "outputs": [],
      "source": [
        "# Save model checkpoints\n",
        "\n",
        "\n",
        "# Load checkpints\n",
        "# Start training for new 500k data.\n"
      ]
    }
  ],
  "metadata": {
    "colab": {
      "provenance": []
    },
    "kernelspec": {
      "display_name": "Python 3",
      "name": "python3"
    },
    "language_info": {
      "name": "python"
    },
    "widgets": {
      "application/vnd.jupyter.widget-state+json": {
        "1955e8b0452a46ffbfacf7717d9b197c": {
          "model_module": "@jupyter-widgets/controls",
          "model_module_version": "1.5.0",
          "model_name": "VBoxModel",
          "state": {
            "_dom_classes": [],
            "_model_module": "@jupyter-widgets/controls",
            "_model_module_version": "1.5.0",
            "_model_name": "VBoxModel",
            "_view_count": null,
            "_view_module": "@jupyter-widgets/controls",
            "_view_module_version": "1.5.0",
            "_view_name": "VBoxView",
            "box_style": "",
            "children": [
              "IPY_MODEL_9de2e1a960f34285bf9e16010a19c529",
              "IPY_MODEL_cf5fc4f413554008be672cfdbc0bee1f"
            ],
            "layout": "IPY_MODEL_49dbd303d8a6460c9242d6dc809175b5"
          }
        },
        "34939f3ba0e74604b4eb08b6e744cd05": {
          "model_module": "@jupyter-widgets/base",
          "model_module_version": "1.2.0",
          "model_name": "LayoutModel",
          "state": {
            "_model_module": "@jupyter-widgets/base",
            "_model_module_version": "1.2.0",
            "_model_name": "LayoutModel",
            "_view_count": null,
            "_view_module": "@jupyter-widgets/base",
            "_view_module_version": "1.2.0",
            "_view_name": "LayoutView",
            "align_content": null,
            "align_items": null,
            "align_self": null,
            "border": null,
            "bottom": null,
            "display": null,
            "flex": null,
            "flex_flow": null,
            "grid_area": null,
            "grid_auto_columns": null,
            "grid_auto_flow": null,
            "grid_auto_rows": null,
            "grid_column": null,
            "grid_gap": null,
            "grid_row": null,
            "grid_template_areas": null,
            "grid_template_columns": null,
            "grid_template_rows": null,
            "height": null,
            "justify_content": null,
            "justify_items": null,
            "left": null,
            "margin": null,
            "max_height": null,
            "max_width": null,
            "min_height": null,
            "min_width": null,
            "object_fit": null,
            "object_position": null,
            "order": null,
            "overflow": null,
            "overflow_x": null,
            "overflow_y": null,
            "padding": null,
            "right": null,
            "top": null,
            "visibility": null,
            "width": null
          }
        },
        "49dbd303d8a6460c9242d6dc809175b5": {
          "model_module": "@jupyter-widgets/base",
          "model_module_version": "1.2.0",
          "model_name": "LayoutModel",
          "state": {
            "_model_module": "@jupyter-widgets/base",
            "_model_module_version": "1.2.0",
            "_model_name": "LayoutModel",
            "_view_count": null,
            "_view_module": "@jupyter-widgets/base",
            "_view_module_version": "1.2.0",
            "_view_name": "LayoutView",
            "align_content": null,
            "align_items": null,
            "align_self": null,
            "border": null,
            "bottom": null,
            "display": null,
            "flex": null,
            "flex_flow": null,
            "grid_area": null,
            "grid_auto_columns": null,
            "grid_auto_flow": null,
            "grid_auto_rows": null,
            "grid_column": null,
            "grid_gap": null,
            "grid_row": null,
            "grid_template_areas": null,
            "grid_template_columns": null,
            "grid_template_rows": null,
            "height": null,
            "justify_content": null,
            "justify_items": null,
            "left": null,
            "margin": null,
            "max_height": null,
            "max_width": null,
            "min_height": null,
            "min_width": null,
            "object_fit": null,
            "object_position": null,
            "order": null,
            "overflow": null,
            "overflow_x": null,
            "overflow_y": null,
            "padding": null,
            "right": null,
            "top": null,
            "visibility": null,
            "width": null
          }
        },
        "86cd82c49c97463cb330750774141810": {
          "model_module": "@jupyter-widgets/controls",
          "model_module_version": "1.5.0",
          "model_name": "ProgressStyleModel",
          "state": {
            "_model_module": "@jupyter-widgets/controls",
            "_model_module_version": "1.5.0",
            "_model_name": "ProgressStyleModel",
            "_view_count": null,
            "_view_module": "@jupyter-widgets/base",
            "_view_module_version": "1.2.0",
            "_view_name": "StyleView",
            "bar_color": null,
            "description_width": ""
          }
        },
        "9de2e1a960f34285bf9e16010a19c529": {
          "model_module": "@jupyter-widgets/controls",
          "model_module_version": "1.5.0",
          "model_name": "LabelModel",
          "state": {
            "_dom_classes": [],
            "_model_module": "@jupyter-widgets/controls",
            "_model_module_version": "1.5.0",
            "_model_name": "LabelModel",
            "_view_count": null,
            "_view_module": "@jupyter-widgets/controls",
            "_view_module_version": "1.5.0",
            "_view_name": "LabelView",
            "description": "",
            "description_tooltip": null,
            "layout": "IPY_MODEL_c5c8b7bcfb31442b91e35b01369da3ed",
            "placeholder": "​",
            "style": "IPY_MODEL_b643fe745ad8431ba3e511748cc46f65",
            "value": "0.001 MB of 0.013 MB uploaded (0.000 MB deduped)\r"
          }
        },
        "b643fe745ad8431ba3e511748cc46f65": {
          "model_module": "@jupyter-widgets/controls",
          "model_module_version": "1.5.0",
          "model_name": "DescriptionStyleModel",
          "state": {
            "_model_module": "@jupyter-widgets/controls",
            "_model_module_version": "1.5.0",
            "_model_name": "DescriptionStyleModel",
            "_view_count": null,
            "_view_module": "@jupyter-widgets/base",
            "_view_module_version": "1.2.0",
            "_view_name": "StyleView",
            "description_width": ""
          }
        },
        "c5c8b7bcfb31442b91e35b01369da3ed": {
          "model_module": "@jupyter-widgets/base",
          "model_module_version": "1.2.0",
          "model_name": "LayoutModel",
          "state": {
            "_model_module": "@jupyter-widgets/base",
            "_model_module_version": "1.2.0",
            "_model_name": "LayoutModel",
            "_view_count": null,
            "_view_module": "@jupyter-widgets/base",
            "_view_module_version": "1.2.0",
            "_view_name": "LayoutView",
            "align_content": null,
            "align_items": null,
            "align_self": null,
            "border": null,
            "bottom": null,
            "display": null,
            "flex": null,
            "flex_flow": null,
            "grid_area": null,
            "grid_auto_columns": null,
            "grid_auto_flow": null,
            "grid_auto_rows": null,
            "grid_column": null,
            "grid_gap": null,
            "grid_row": null,
            "grid_template_areas": null,
            "grid_template_columns": null,
            "grid_template_rows": null,
            "height": null,
            "justify_content": null,
            "justify_items": null,
            "left": null,
            "margin": null,
            "max_height": null,
            "max_width": null,
            "min_height": null,
            "min_width": null,
            "object_fit": null,
            "object_position": null,
            "order": null,
            "overflow": null,
            "overflow_x": null,
            "overflow_y": null,
            "padding": null,
            "right": null,
            "top": null,
            "visibility": null,
            "width": null
          }
        },
        "cf5fc4f413554008be672cfdbc0bee1f": {
          "model_module": "@jupyter-widgets/controls",
          "model_module_version": "1.5.0",
          "model_name": "FloatProgressModel",
          "state": {
            "_dom_classes": [],
            "_model_module": "@jupyter-widgets/controls",
            "_model_module_version": "1.5.0",
            "_model_name": "FloatProgressModel",
            "_view_count": null,
            "_view_module": "@jupyter-widgets/controls",
            "_view_module_version": "1.5.0",
            "_view_name": "ProgressView",
            "bar_style": "",
            "description": "",
            "description_tooltip": null,
            "layout": "IPY_MODEL_34939f3ba0e74604b4eb08b6e744cd05",
            "max": 1,
            "min": 0,
            "orientation": "horizontal",
            "style": "IPY_MODEL_86cd82c49c97463cb330750774141810",
            "value": 0.08295207380184505
          }
        }
      }
    }
  },
  "nbformat": 4,
  "nbformat_minor": 0
}
